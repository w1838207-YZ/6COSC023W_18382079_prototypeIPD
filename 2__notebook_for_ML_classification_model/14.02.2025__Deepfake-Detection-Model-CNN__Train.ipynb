{
 "cells": [
  {
   "cell_type": "code",
   "execution_count": 1,
   "id": "a1cd30da-888e-4b93-835a-16a87894b82f",
   "metadata": {},
   "outputs": [
    {
     "name": "stdout",
     "output_type": "stream",
     "text": [
      "Requirement already satisfied: tensorflow in c:\\users\\student\\anaconda3\\lib\\site-packages (2.18.0)\n",
      "Requirement already satisfied: tensorflow-intel==2.18.0 in c:\\users\\student\\anaconda3\\lib\\site-packages (from tensorflow) (2.18.0)\n",
      "Requirement already satisfied: absl-py>=1.0.0 in c:\\users\\student\\anaconda3\\lib\\site-packages (from tensorflow-intel==2.18.0->tensorflow) (2.1.0)\n",
      "Requirement already satisfied: astunparse>=1.6.0 in c:\\users\\student\\anaconda3\\lib\\site-packages (from tensorflow-intel==2.18.0->tensorflow) (1.6.3)\n",
      "Requirement already satisfied: flatbuffers>=24.3.25 in c:\\users\\student\\anaconda3\\lib\\site-packages (from tensorflow-intel==2.18.0->tensorflow) (25.1.24)\n",
      "Requirement already satisfied: gast!=0.5.0,!=0.5.1,!=0.5.2,>=0.2.1 in c:\\users\\student\\anaconda3\\lib\\site-packages (from tensorflow-intel==2.18.0->tensorflow) (0.6.0)\n",
      "Requirement already satisfied: google-pasta>=0.1.1 in c:\\users\\student\\anaconda3\\lib\\site-packages (from tensorflow-intel==2.18.0->tensorflow) (0.2.0)\n",
      "Requirement already satisfied: libclang>=13.0.0 in c:\\users\\student\\anaconda3\\lib\\site-packages (from tensorflow-intel==2.18.0->tensorflow) (18.1.1)\n",
      "Requirement already satisfied: opt-einsum>=2.3.2 in c:\\users\\student\\anaconda3\\lib\\site-packages (from tensorflow-intel==2.18.0->tensorflow) (3.4.0)\n",
      "Requirement already satisfied: packaging in c:\\users\\student\\anaconda3\\lib\\site-packages (from tensorflow-intel==2.18.0->tensorflow) (24.1)\n",
      "Requirement already satisfied: protobuf!=4.21.0,!=4.21.1,!=4.21.2,!=4.21.3,!=4.21.4,!=4.21.5,<6.0.0dev,>=3.20.3 in c:\\users\\student\\anaconda3\\lib\\site-packages (from tensorflow-intel==2.18.0->tensorflow) (4.25.3)\n",
      "Requirement already satisfied: requests<3,>=2.21.0 in c:\\users\\student\\anaconda3\\lib\\site-packages (from tensorflow-intel==2.18.0->tensorflow) (2.32.3)\n",
      "Requirement already satisfied: setuptools in c:\\users\\student\\anaconda3\\lib\\site-packages (from tensorflow-intel==2.18.0->tensorflow) (75.1.0)\n",
      "Requirement already satisfied: six>=1.12.0 in c:\\users\\student\\anaconda3\\lib\\site-packages (from tensorflow-intel==2.18.0->tensorflow) (1.16.0)\n",
      "Requirement already satisfied: termcolor>=1.1.0 in c:\\users\\student\\anaconda3\\lib\\site-packages (from tensorflow-intel==2.18.0->tensorflow) (2.5.0)\n",
      "Requirement already satisfied: typing-extensions>=3.6.6 in c:\\users\\student\\anaconda3\\lib\\site-packages (from tensorflow-intel==2.18.0->tensorflow) (4.11.0)\n",
      "Requirement already satisfied: wrapt>=1.11.0 in c:\\users\\student\\anaconda3\\lib\\site-packages (from tensorflow-intel==2.18.0->tensorflow) (1.14.1)\n",
      "Requirement already satisfied: grpcio<2.0,>=1.24.3 in c:\\users\\student\\anaconda3\\lib\\site-packages (from tensorflow-intel==2.18.0->tensorflow) (1.70.0)\n",
      "Requirement already satisfied: tensorboard<2.19,>=2.18 in c:\\users\\student\\anaconda3\\lib\\site-packages (from tensorflow-intel==2.18.0->tensorflow) (2.18.0)\n",
      "Requirement already satisfied: keras>=3.5.0 in c:\\users\\student\\anaconda3\\lib\\site-packages (from tensorflow-intel==2.18.0->tensorflow) (3.8.0)\n",
      "Requirement already satisfied: numpy<2.1.0,>=1.26.0 in c:\\users\\student\\anaconda3\\lib\\site-packages (from tensorflow-intel==2.18.0->tensorflow) (1.26.4)\n",
      "Requirement already satisfied: h5py>=3.11.0 in c:\\users\\student\\anaconda3\\lib\\site-packages (from tensorflow-intel==2.18.0->tensorflow) (3.11.0)\n",
      "Requirement already satisfied: ml-dtypes<0.5.0,>=0.4.0 in c:\\users\\student\\anaconda3\\lib\\site-packages (from tensorflow-intel==2.18.0->tensorflow) (0.4.1)\n",
      "Requirement already satisfied: wheel<1.0,>=0.23.0 in c:\\users\\student\\anaconda3\\lib\\site-packages (from astunparse>=1.6.0->tensorflow-intel==2.18.0->tensorflow) (0.44.0)\n",
      "Requirement already satisfied: rich in c:\\users\\student\\anaconda3\\lib\\site-packages (from keras>=3.5.0->tensorflow-intel==2.18.0->tensorflow) (13.7.1)\n",
      "Requirement already satisfied: namex in c:\\users\\student\\anaconda3\\lib\\site-packages (from keras>=3.5.0->tensorflow-intel==2.18.0->tensorflow) (0.0.8)\n",
      "Requirement already satisfied: optree in c:\\users\\student\\anaconda3\\lib\\site-packages (from keras>=3.5.0->tensorflow-intel==2.18.0->tensorflow) (0.14.0)\n",
      "Requirement already satisfied: charset-normalizer<4,>=2 in c:\\users\\student\\anaconda3\\lib\\site-packages (from requests<3,>=2.21.0->tensorflow-intel==2.18.0->tensorflow) (3.3.2)\n",
      "Requirement already satisfied: idna<4,>=2.5 in c:\\users\\student\\anaconda3\\lib\\site-packages (from requests<3,>=2.21.0->tensorflow-intel==2.18.0->tensorflow) (3.7)\n",
      "Requirement already satisfied: urllib3<3,>=1.21.1 in c:\\users\\student\\anaconda3\\lib\\site-packages (from requests<3,>=2.21.0->tensorflow-intel==2.18.0->tensorflow) (2.2.3)\n",
      "Requirement already satisfied: certifi>=2017.4.17 in c:\\users\\student\\anaconda3\\lib\\site-packages (from requests<3,>=2.21.0->tensorflow-intel==2.18.0->tensorflow) (2025.1.31)\n",
      "Requirement already satisfied: markdown>=2.6.8 in c:\\users\\student\\anaconda3\\lib\\site-packages (from tensorboard<2.19,>=2.18->tensorflow-intel==2.18.0->tensorflow) (3.4.1)\n",
      "Requirement already satisfied: tensorboard-data-server<0.8.0,>=0.7.0 in c:\\users\\student\\anaconda3\\lib\\site-packages (from tensorboard<2.19,>=2.18->tensorflow-intel==2.18.0->tensorflow) (0.7.2)\n",
      "Requirement already satisfied: werkzeug>=1.0.1 in c:\\users\\student\\anaconda3\\lib\\site-packages (from tensorboard<2.19,>=2.18->tensorflow-intel==2.18.0->tensorflow) (3.0.3)\n",
      "Requirement already satisfied: MarkupSafe>=2.1.1 in c:\\users\\student\\anaconda3\\lib\\site-packages (from werkzeug>=1.0.1->tensorboard<2.19,>=2.18->tensorflow-intel==2.18.0->tensorflow) (2.1.3)\n",
      "Requirement already satisfied: markdown-it-py>=2.2.0 in c:\\users\\student\\anaconda3\\lib\\site-packages (from rich->keras>=3.5.0->tensorflow-intel==2.18.0->tensorflow) (2.2.0)\n",
      "Requirement already satisfied: pygments<3.0.0,>=2.13.0 in c:\\users\\student\\anaconda3\\lib\\site-packages (from rich->keras>=3.5.0->tensorflow-intel==2.18.0->tensorflow) (2.15.1)\n",
      "Requirement already satisfied: mdurl~=0.1 in c:\\users\\student\\anaconda3\\lib\\site-packages (from markdown-it-py>=2.2.0->rich->keras>=3.5.0->tensorflow-intel==2.18.0->tensorflow) (0.1.0)\n",
      "Note: you may need to restart the kernel to use updated packages.\n",
      "-----\n",
      "-----\n",
      "> The installation of any necessary package(s) has successfully ran!\n"
     ]
    }
   ],
   "source": [
    "# Pip is used to install packages/libraries which are not installed by default. The prefix '%' means an install happens in context of only this notebook.\n",
    "%pip install tensorflow\n",
    "\n",
    "# A print statement is used in order to confirm if a run of this cell successfully worked.\n",
    "print(\"-----\\n-----\\n> The installation of any necessary package(s) has successfully ran!\")"
   ]
  },
  {
   "cell_type": "code",
   "execution_count": 2,
   "id": "05875c3b-1c66-4081-8640-67e1f5bbcff5",
   "metadata": {},
   "outputs": [
    {
     "name": "stdout",
     "output_type": "stream",
     "text": [
      "-----\n",
      "-----\n",
      "> The importing of any necessary package(s) has successfully ran!\n"
     ]
    }
   ],
   "source": [
    "# The software library 'TensorFlow' gets imported.\n",
    "# TensorFlow is Python-friendly and a common help for projects revolving around machine learning, on account of the multiple functions it has.\n",
    "import tensorflow\n",
    "\n",
    "# The Python library 'Joblib' gets imported.\n",
    "# Joblib offers a 'dump' function which allows the saving of a trained deepfake detection model, specifically into a pickle 'pkl' file.\n",
    "import joblib\n",
    "\n",
    "# The Python library 'OS' gets imported.\n",
    "# OS offers functions that link to and provide access to folder/directory paths, where the sample data used by this notebook is stored at.\n",
    "import os\n",
    "\n",
    "# The Python library 'NumPy' gets imported. It is given the alias 'np'.\n",
    "# NumPy allows work to be done with arrays like expanding one's shape. For example, this lets test images be preprocessed before classification by model.\n",
    "import numpy as np\n",
    "\n",
    "# The interface 'Pyplot', which comes from the Python library 'Matplotlib', gets imported. It is given the alias 'plt'.\n",
    "# Pyplot allows work to be done with plots such as a line plot or scatter plot. For example, this enables creation of graphs to depict model performance.\n",
    "import matplotlib.pyplot as plt\n",
    "\n",
    "# The model 'Sequential' and the function 'load_model', from the high-level API 'Keras' (for TensorFlow), get imported.\n",
    "# A Sequential object allows a given number of layers to be grouped into a custom model. load_model enables model loading from a .h5 file or .keras file.\n",
    "from tensorflow.keras.models import Sequential, load_model\n",
    "\n",
    "# From Keras, the layers 'Conv2D', 'MaxPooling2D', 'Dense', and 'Flatten' get imported.\n",
    "# The layers will be combined via a Sequential model into a custom Convolutional Neural Network. This will be the model that performs deepfake detection.\n",
    "from tensorflow.keras.layers import Conv2D, MaxPooling2D, Dense, Flatten\n",
    "\n",
    "# From Keras, the class 'ImageDataGenerator' gets imported. \n",
    "# An ImageDataGenerator object forms transformed images out of 1 original. If a dataset is small, data augmentation may help models to generalise better.\n",
    "from tensorflow.keras.preprocessing.image import ImageDataGenerator\n",
    "\n",
    "# From Keras, the functions 'load_img' and 'img_to_array' get imported.\n",
    "# These functions can load an image file from its path and convert it into a NumPy array. These are needed to predict the classification of a test image.\n",
    "from tensorflow.keras.utils import load_img, img_to_array\n",
    "\n",
    "# A print statement is used in order to confirm if a run of this cell successfully worked.\n",
    "print(\"-----\\n-----\\n> The importing of any necessary package(s) has successfully ran!\")"
   ]
  },
  {
   "cell_type": "code",
   "execution_count": 3,
   "id": "11a997b0-6fe1-433a-8a5b-99fb44c147d2",
   "metadata": {},
   "outputs": [
    {
     "name": "stdout",
     "output_type": "stream",
     "text": [
      "-----\n",
      "-----\n",
      "> The definition of any necessary variable(s) has successfully ran!\n"
     ]
    }
   ],
   "source": [
    "# Paths to the folders for general subgroups of the sample data are recorded in variables.\n",
    "test_images_path = os.path.join(os.getcwd(),\"data_sample\",\"test_data\")\n",
    "train_images_path = os.path.join(os.getcwd(),\"data_sample\",\"train_data\")\n",
    "validation_images_path = os.path.join(os.getcwd(),\"data_sample\",\"validation_data\")\n",
    "\n",
    "# The input shape to be used for training a deepfake detection model is recorded.\n",
    "# During training, images from the sample data will be resized to 150x150 pixels and treated as having 3 colour channels (i.e. they are RGB image files).\n",
    "image_resize_height = 150\n",
    "image_resize_width = 150\n",
    "input_shape_cnn = (image_resize_height,image_resize_width,3)\n",
    "\n",
    "# The batch size to be used for training a deepfake detection model, along with the number of classes said model must distinguish between, are recorded.\n",
    "number_of_classes_cnn = 2\n",
    "batch_size_cnn = 32\n",
    "\n",
    "# A print statement is used in order to confirm if a run of this cell successfully worked.\n",
    "print(\"-----\\n-----\\n> The definition of any necessary variable(s) has successfully ran!\")"
   ]
  },
  {
   "cell_type": "code",
   "execution_count": 4,
   "id": "fa86a8b6-0527-4ced-aa09-28dbe62f4061",
   "metadata": {},
   "outputs": [
    {
     "name": "stdout",
     "output_type": "stream",
     "text": [
      "240 images in\tC:\\Users\\Student\\6COSC023W_18382079_prototypeIPD\\2__notebook_for_ML_classification_model\\data_sample\\train_data\\fake\n",
      "240 images in\tC:\\Users\\Student\\6COSC023W_18382079_prototypeIPD\\2__notebook_for_ML_classification_model\\data_sample\\train_data\\real\n",
      "30 images in\tC:\\Users\\Student\\6COSC023W_18382079_prototypeIPD\\2__notebook_for_ML_classification_model\\data_sample\\validation_data\\fake\n",
      "30 images in\tC:\\Users\\Student\\6COSC023W_18382079_prototypeIPD\\2__notebook_for_ML_classification_model\\data_sample\\validation_data\\real\n",
      "30 images in\tC:\\Users\\Student\\6COSC023W_18382079_prototypeIPD\\2__notebook_for_ML_classification_model\\data_sample\\test_data\\fake\n",
      "30 images in\tC:\\Users\\Student\\6COSC023W_18382079_prototypeIPD\\2__notebook_for_ML_classification_model\\data_sample\\test_data\\real\n",
      "-----\n",
      "-----\n",
      "> The counting of data sample images has successfully ran!\n"
     ]
    }
   ],
   "source": [
    "# This user-defined function will count the number of images in a subfolder for a specific subgroup of sample data.\n",
    "def count_images_from_sample_data(parameter_path):\n",
    "    for folder in os.listdir(parameter_path):\n",
    "        folder_path = os.path.join(str(parameter_path),folder)\n",
    "        folder_image_count = 0\n",
    "        for image in os.listdir(folder_path):\n",
    "            folder_image_count += 1\n",
    "        print(str(folder_image_count) + \" images in\\t\" + folder_path)\n",
    "\n",
    "# The above function is repeatedly called, using the paths to folders of general subgroups as arguments.\n",
    "count_images_from_sample_data(train_images_path)\n",
    "count_images_from_sample_data(validation_images_path)\n",
    "count_images_from_sample_data(test_images_path)\n",
    "\n",
    "# A print statement is used in order to confirm if a run of this cell successfully worked.\n",
    "print(\"-----\\n-----\\n> The counting of data sample images has successfully ran!\")"
   ]
  },
  {
   "cell_type": "code",
   "execution_count": 5,
   "id": "7aa06593-e71e-416e-9bf3-03025c313efb",
   "metadata": {},
   "outputs": [
    {
     "name": "stdout",
     "output_type": "stream",
     "text": [
      "Found 480 images belonging to 2 classes.\n",
      "-----\n",
      "-----\n",
      "> The creation of train data generators has successfully ran!\n"
     ]
    }
   ],
   "source": [
    "# An initial ImageDataGenerator object is created, to prepare a configuration for the augmentation of specifically train data.\n",
    "train_data_generator_base = ImageDataGenerator(\n",
    "    rescale=1./255  # A rescale parameter normalises RGB image pixel values. Otherwise this value range would be too high for a model to process.\n",
    ")\n",
    "\n",
    "# A new generator is created, which generates transformed train data from the appropriate directory/folder path.\n",
    "train_generator = train_data_generator_base.flow_from_directory(\n",
    "    train_images_path,                                     # The path to the general folder for train data is passed as an argument here.\n",
    "    target_size=(image_resize_height,image_resize_width),  # The common target parameters for image resizing dimensions are passed as arguments here.\n",
    "    batch_size=batch_size_cnn,                             # The common parameter for batch size is passed as an argument here.\n",
    "    class_mode=\"categorical\",                              # A categorical class mode, which can mean over two classes to distinguish between, is passed.\n",
    "    shuffle=True,                                          # A true shuffle parameter (meaning data is randomly taken from its directory) is passed.\n",
    "    seed=3                                                 # A seed parameter (to reproduce the order that data is used for training) is passed.\n",
    ")\n",
    "\n",
    "# A print statement is used in order to confirm if a run of this cell successfully worked.\n",
    "print(\"-----\\n-----\\n> The creation of train data generators has successfully ran!\")"
   ]
  },
  {
   "cell_type": "code",
   "execution_count": 6,
   "id": "376bd327-4c06-4c93-90da-51630a65b4ff",
   "metadata": {},
   "outputs": [
    {
     "name": "stdout",
     "output_type": "stream",
     "text": [
      "Found 60 images belonging to 2 classes.\n",
      "-----\n",
      "-----\n",
      "> The creation of validation data generators has successfully ran!\n"
     ]
    }
   ],
   "source": [
    "# An initial ImageDataGenerator object is created, to prepare a configuration for the augmentation of specifically validation data.\n",
    "validation_data_generator_base = ImageDataGenerator(\n",
    "    rescale=1./255  # A rescale parameter normalises RGB image pixel values. Otherwise this value range would be too high for a model to process.\n",
    ")\n",
    "\n",
    "# A new generator is created, which generates transformed validation data from the appropriate directory/folder path.\n",
    "validation_generator = validation_data_generator_base.flow_from_directory(\n",
    "    validation_images_path,                                # The path to the general folder for validation data is passed as an argument here.\n",
    "    target_size=(image_resize_height,image_resize_width),  # The common target parameters for image resizing dimensions are passed as arguments here.\n",
    "    batch_size=batch_size_cnn,                             # The common parameter for batch size is passed as an argument here.\n",
    "    class_mode=\"categorical\",                              # A categorical class mode, which can mean over two classes to distinguish between, is passed.\n",
    "    shuffle=False,                                         # A false shuffle parameter (meaning data is not randomly taken from its directory) is passed.\n",
    "    seed=3                                                 # A seed parameter (to reproduce the order that data is used for validating) is passed.\n",
    ")\n",
    "\n",
    "# A print statement is used in order to confirm if a run of this cell successfully worked.\n",
    "print(\"-----\\n-----\\n> The creation of validation data generators has successfully ran!\")"
   ]
  },
  {
   "cell_type": "code",
   "execution_count": 7,
   "id": "c5729f43-c453-4b74-9a41-b5336e736612",
   "metadata": {},
   "outputs": [
    {
     "name": "stdout",
     "output_type": "stream",
     "text": [
      "Found 60 images belonging to 2 classes.\n",
      "-----\n",
      "-----\n",
      "> The creation of test data generators has successfully ran!\n"
     ]
    }
   ],
   "source": [
    "# An initial ImageDataGenerator object is created, to prepare a configuration for the augmentation of specifically test data.\n",
    "test_data_generator_base = ImageDataGenerator(\n",
    "    rescale=1./255  # A rescale parameter normalises RGB image pixel values. Otherwise this value range would be too high for a model to process.\n",
    ")\n",
    "\n",
    "# A new generator is created, which generates transformed test data from the appropriate directory/folder path.\n",
    "test_generator = test_data_generator_base.flow_from_directory(\n",
    "    test_images_path,                                      # The path to the general folder for test data is passed as an argument here.\n",
    "    target_size=(image_resize_height,image_resize_width),  # The common target parameters for image resizing dimensions are passed as arguments here.\n",
    "    batch_size=batch_size_cnn,                             # The common parameter for batch size is passed as an argument here.\n",
    "    class_mode=\"categorical\",                              # A categorical class mode, which can mean over two classes to distinguish between, is passed.\n",
    "    shuffle=False,                                         # A false shuffle parameter (meaning data is not randomly taken from its directory) is passed.\n",
    "    seed=3                                                 # A seed parameter (to reproduce the order that data is used for testing) is passed.\n",
    ")\n",
    "\n",
    "# A print statement is used in order to confirm if a run of this cell successfully worked.\n",
    "print(\"-----\\n-----\\n> The creation of test data generators has successfully ran!\")"
   ]
  },
  {
   "cell_type": "code",
   "execution_count": 8,
   "id": "4149bb63-9307-41b2-a5ca-7af6d0d8a835",
   "metadata": {},
   "outputs": [
    {
     "name": "stdout",
     "output_type": "stream",
     "text": [
      "-----\n",
      "-----\n",
      "> The creation of the sequential deepfake detection model has successfully ran!\n"
     ]
    },
    {
     "name": "stderr",
     "output_type": "stream",
     "text": [
      "C:\\Users\\Student\\anaconda3\\Lib\\site-packages\\keras\\src\\layers\\convolutional\\base_conv.py:107: UserWarning: Do not pass an `input_shape`/`input_dim` argument to a layer. When using Sequential models, prefer using an `Input(shape)` object as the first layer in the model instead.\n",
      "  super().__init__(activity_regularizer=activity_regularizer, **kwargs)\n"
     ]
    }
   ],
   "source": [
    "# A Sequential object is created which will become the deepfake detection model. As stated above its architecture will be a Convolutional Neural Network.\n",
    "deepfake_detection_model_cnn = Sequential()\n",
    "\n",
    "# A group of layers are added to the model. They perform feature extraction via the convolution operation and downsampling via the max pooling operation.\n",
    "deepfake_detection_model_cnn.add(Conv2D(32, (3, 3), activation=\"relu\", input_shape=input_shape_cnn))\n",
    "deepfake_detection_model_cnn.add(MaxPooling2D((2, 2)))\n",
    "deepfake_detection_model_cnn.add(Conv2D(64, (3, 3), activation=\"relu\"))\n",
    "deepfake_detection_model_cnn.add(MaxPooling2D((2, 2)))\n",
    "deepfake_detection_model_cnn.add(Conv2D(128, (3, 3), activation=\"relu\"))\n",
    "deepfake_detection_model_cnn.add(MaxPooling2D((2, 2)))\n",
    "deepfake_detection_model_cnn.add(Conv2D(128, (3, 3), activation=\"relu\"))\n",
    "deepfake_detection_model_cnn.add(MaxPooling2D((2, 2)))\n",
    "\n",
    "# A pair of layers are added to the model. They flatten extracted features into 1 dimension, and then connect all neurones of the last layer to the next.\n",
    "deepfake_detection_model_cnn.add(Flatten())\n",
    "deepfake_detection_model_cnn.add(Dense(512, activation=\"relu\"))\n",
    "\n",
    "# A final dense layer is added to the model. The activation function has been changed from 'ReLU', and is 'Softmax' now.\n",
    "deepfake_detection_model_cnn.add(Dense(number_of_classes_cnn, activation=\"softmax\"))\n",
    "\n",
    "# A print statement is used in order to confirm if a run of this cell successfully worked.\n",
    "print(\"-----\\n-----\\n> The creation of the sequential deepfake detection model has successfully ran!\")"
   ]
  },
  {
   "cell_type": "code",
   "execution_count": 9,
   "id": "e6e2080e-9889-4a79-b975-7dca54771572",
   "metadata": {},
   "outputs": [
    {
     "name": "stdout",
     "output_type": "stream",
     "text": [
      "-----\n",
      "-----\n",
      "> The compilation of the sequential deepfake detection model has successfully ran!\n"
     ]
    }
   ],
   "source": [
    "# The deepfake detection model now gets compiled.\n",
    "deepfake_detection_model_cnn.compile(\n",
    "    loss=\"categorical_crossentropy\",  # The loss function, 'Categorical Cross Entropy' (not Sparse), is useful for multiclass classification models.\n",
    "    optimizer=\"rmsprop\",              # The optimiser, 'RMSprop' (not Adam), is designed to improve performances and speeds (when training a model).\n",
    "    metrics=[\"accuracy\"]              # Accuracy is picked as the performance measure for this model.\n",
    ")\n",
    "\n",
    "# A print statement is used in order to confirm if a run of this cell successfully worked.\n",
    "print(\"-----\\n-----\\n> The compilation of the sequential deepfake detection model has successfully ran!\")"
   ]
  },
  {
   "cell_type": "code",
   "execution_count": 10,
   "id": "9f6b4bf2-fa62-4cb0-bd9b-ff27585594f0",
   "metadata": {},
   "outputs": [
    {
     "name": "stderr",
     "output_type": "stream",
     "text": [
      "C:\\Users\\Student\\anaconda3\\Lib\\site-packages\\keras\\src\\trainers\\data_adapters\\py_dataset_adapter.py:121: UserWarning: Your `PyDataset` class should call `super().__init__(**kwargs)` in its constructor. `**kwargs` can include `workers`, `use_multiprocessing`, `max_queue_size`. Do not pass these arguments to `fit()`, as they will be ignored.\n",
      "  self._warn_if_super_not_called()\n"
     ]
    },
    {
     "name": "stdout",
     "output_type": "stream",
     "text": [
      "Epoch 1/10\n",
      "\u001b[1m15/15\u001b[0m \u001b[32m━━━━━━━━━━━━━━━━━━━━\u001b[0m\u001b[37m\u001b[0m \u001b[1m8s\u001b[0m 430ms/step - accuracy: 0.4722 - loss: 0.8435 - val_accuracy: 0.9375 - val_loss: 0.6767\n",
      "Epoch 2/10\n",
      "\u001b[1m15/15\u001b[0m \u001b[32m━━━━━━━━━━━━━━━━━━━━\u001b[0m\u001b[37m\u001b[0m \u001b[1m5s\u001b[0m 356ms/step - accuracy: 0.5523 - loss: 0.6926 - val_accuracy: 0.4688 - val_loss: 0.6931\n",
      "Epoch 3/10\n",
      "\u001b[1m15/15\u001b[0m \u001b[32m━━━━━━━━━━━━━━━━━━━━\u001b[0m\u001b[37m\u001b[0m \u001b[1m6s\u001b[0m 366ms/step - accuracy: 0.5677 - loss: 0.6910 - val_accuracy: 0.0625 - val_loss: 0.7628\n",
      "Epoch 4/10\n",
      "\u001b[1m15/15\u001b[0m \u001b[32m━━━━━━━━━━━━━━━━━━━━\u001b[0m\u001b[37m\u001b[0m \u001b[1m6s\u001b[0m 375ms/step - accuracy: 0.5091 - loss: 0.6954 - val_accuracy: 0.8750 - val_loss: 0.5799\n",
      "Epoch 5/10\n",
      "\u001b[1m15/15\u001b[0m \u001b[32m━━━━━━━━━━━━━━━━━━━━\u001b[0m\u001b[37m\u001b[0m \u001b[1m6s\u001b[0m 381ms/step - accuracy: 0.5864 - loss: 0.6768 - val_accuracy: 0.5000 - val_loss: 0.6810\n",
      "Epoch 6/10\n",
      "\u001b[1m15/15\u001b[0m \u001b[32m━━━━━━━━━━━━━━━━━━━━\u001b[0m\u001b[37m\u001b[0m \u001b[1m5s\u001b[0m 360ms/step - accuracy: 0.6629 - loss: 0.6297 - val_accuracy: 0.9375 - val_loss: 0.4627\n",
      "Epoch 7/10\n",
      "\u001b[1m15/15\u001b[0m \u001b[32m━━━━━━━━━━━━━━━━━━━━\u001b[0m\u001b[37m\u001b[0m \u001b[1m5s\u001b[0m 361ms/step - accuracy: 0.6344 - loss: 0.6647 - val_accuracy: 0.5312 - val_loss: 0.6872\n",
      "Epoch 8/10\n",
      "\u001b[1m15/15\u001b[0m \u001b[32m━━━━━━━━━━━━━━━━━━━━\u001b[0m\u001b[37m\u001b[0m \u001b[1m5s\u001b[0m 358ms/step - accuracy: 0.6733 - loss: 0.5814 - val_accuracy: 0.4688 - val_loss: 0.6373\n",
      "Epoch 9/10\n",
      "\u001b[1m15/15\u001b[0m \u001b[32m━━━━━━━━━━━━━━━━━━━━\u001b[0m\u001b[37m\u001b[0m \u001b[1m5s\u001b[0m 357ms/step - accuracy: 0.6892 - loss: 0.6250 - val_accuracy: 0.5312 - val_loss: 0.6964\n",
      "Epoch 10/10\n",
      "\u001b[1m15/15\u001b[0m \u001b[32m━━━━━━━━━━━━━━━━━━━━\u001b[0m\u001b[37m\u001b[0m \u001b[1m6s\u001b[0m 370ms/step - accuracy: 0.7422 - loss: 0.5237 - val_accuracy: 0.5625 - val_loss: 0.6021\n",
      "-----\n",
      "-----\n",
      "> The training of the sequential deepfake detection model has successfully ran!\n"
     ]
    }
   ],
   "source": [
    "# Training begins for the deepfake detection model. The training history gets saved also into a variable. \n",
    "deepfake_detection_training_history = deepfake_detection_model_cnn.fit(\n",
    "    train_generator,                                         # The generator which augmented train images is passed as an argument here.\n",
    "    steps_per_epoch=train_generator.n//batch_size_cnn,       # A number of steps (dividing the size of a generator by the batch size) gets defined.\n",
    "    epochs=10,                                               # A chosen number of epochs (how many times the model sees the whole dataset) is defined.\n",
    "    validation_data=validation_generator,                    # The generator which augmented validation images is passed as an argument here.\n",
    "    validation_steps=validation_generator.n//batch_size_cnn  # Another number of steps (dividing the size of a generator by the batch size) gets defined.\n",
    ")\n",
    "\n",
    "# A print statement is used in order to confirm if a run of this cell successfully worked.\n",
    "print(\"-----\\n-----\\n> The training of the sequential deepfake detection model has successfully ran!\")"
   ]
  },
  {
   "cell_type": "code",
   "execution_count": 11,
   "id": "ba1af342-bcaf-453c-a66e-e228fdecbfc2",
   "metadata": {},
   "outputs": [
    {
     "name": "stdout",
     "output_type": "stream",
     "text": [
      "-----\n",
      "-----\n",
      "> The saving of the sequential deepfake detection model has successfully ran!\n"
     ]
    }
   ],
   "source": [
    "# The deepfake detection model get saved into a pickle file. Alternatively, it can be saved as a keras or h5 file (though the code is commented out now).\n",
    "joblib.dump(deepfake_detection_model_cnn,\"14.02.2025__Deepfake-Detection-Model__[i].pkl\",compress=0,protocol=None,cache_size=None)\n",
    "\n",
    "# A print statement is used in order to confirm if a run of this cell successfully worked.\n",
    "print(\"-----\\n-----\\n> The saving of the sequential deepfake detection model has successfully ran!\")\n",
    "\n",
    "#deepfake_detection_model_cnn.save(\"13-14.02.2025__Deepfake-Detection-Model-CNN.keras\")\n",
    "#deepfake_detection_model_cnn.save(\"13-14.02.2025__Deepfake-Detection-Model-CNN.h5\")\n",
    "\n",
    "#joblib.dump(deepfake_detection_model_cnn,\"14.02.2025__Deepfake-Detection-Model.pkl\",compress=0,protocol=None,cache_size=None)"
   ]
  },
  {
   "cell_type": "code",
   "execution_count": 12,
   "id": "2b5d2ec1-0bfe-4a24-b62a-fb0b6f245dcf",
   "metadata": {},
   "outputs": [
    {
     "data": {
      "image/png": "[encoded data removed]",
      "text/plain": [
       "<Figure size 640x480 with 1 Axes>"
      ]
     },
     "metadata": {},
     "output_type": "display_data"
    },
    {
     "data": {
      "image/png": "[encoded data removed]",
      "text/plain": [
       "<Figure size 640x480 with 1 Axes>"
      ]
     },
     "metadata": {},
     "output_type": "display_data"
    },
    {
     "name": "stdout",
     "output_type": "stream",
     "text": [
      "-----\n",
      "-----\n",
      "> The creation of graphs (describing the deepfake detection model's performance) has successfully ran!\n"
     ]
    }
   ],
   "source": [
    "# The used number of epochs, plus multiple metrics for accuracies/losses, are saved in variables (from the deepfake detection model's training history).\n",
    "model_accuracy = deepfake_detection_training_history.history['accuracy']\n",
    "model_validation_accuracy = deepfake_detection_training_history.history['val_accuracy']\n",
    "model_loss = deepfake_detection_training_history.history['loss']\n",
    "model_validation_loss = deepfake_detection_training_history.history['val_loss']\n",
    "epochs = range(1,len(model_accuracy)+ 1)\n",
    "\n",
    "# A graph is plotted depicting the fluctuation of accuracy and validation accuracy, while training the deepfake detection model.\n",
    "plt.plot(epochs, model_accuracy, 'bo', label='Training Accuracy')\n",
    "plt.plot(epochs, model_validation_accuracy, 'b', label='Validation Accuracy')\n",
    "plt.title('Training and Validation Accuracy')\n",
    "plt.legend()\n",
    "plt.figure()\n",
    "\n",
    "# A graph is plotted depicting the fluctuation of loss and validation loss, while training the deepfake detection model.\n",
    "plt.plot(epochs, model_loss, 'bo', label='Training Loss')\n",
    "plt.plot(epochs, model_validation_loss, 'b', label='Validation Loss')\n",
    "plt.title('Training and Validation Loss')\n",
    "plt.legend()\n",
    "plt.show()\n",
    "\n",
    "# A print statement is used in order to confirm if a run of this cell successfully worked.\n",
    "print(\"-----\\n-----\\n> The creation of graphs (describing the deepfake detection model's performance) has successfully ran!\")"
   ]
  },
  {
   "cell_type": "code",
   "execution_count": 13,
   "id": "c4328861-458a-4d31-bdd6-5e41b569038e",
   "metadata": {},
   "outputs": [
    {
     "name": "stdout",
     "output_type": "stream",
     "text": [
      "Requirement already satisfied: pydot-ng in c:\\users\\student\\anaconda3\\lib\\site-packages (2.0.0)\n",
      "Requirement already satisfied: pyparsing>=2.0.1 in c:\\users\\student\\anaconda3\\lib\\site-packages (from pydot-ng) (3.1.2)\n",
      "Note: you may need to restart the kernel to use updated packages.\n",
      "Requirement already satisfied: pydot==2.0.0 in c:\\users\\student\\anaconda3\\lib\\site-packages (2.0.0)\n",
      "Requirement already satisfied: pyparsing>=3 in c:\\users\\student\\anaconda3\\lib\\site-packages (from pydot==2.0.0) (3.1.2)\n",
      "Note: you may need to restart the kernel to use updated packages.\n",
      "Requirement already satisfied: pydotplus in c:\\users\\student\\anaconda3\\lib\\site-packages (2.0.2)\n",
      "Requirement already satisfied: pyparsing>=2.0.1 in c:\\users\\student\\anaconda3\\lib\\site-packages (from pydotplus) (3.1.2)\n",
      "Note: you may need to restart the kernel to use updated packages.\n",
      "-----\n",
      "-----\n",
      "> The installation of more packages has successfully ran!\n"
     ]
    }
   ],
   "source": [
    "# Pip installs more libraries, including graphviz (not shown here but installed on Conda terminal). They allow diagrams to be made of the deepfake model.\n",
    "%pip install pydot-ng\n",
    "%pip install pydot==2.0.0\n",
    "%pip install pydotplus\n",
    "\n",
    "# A print statement is used in order to confirm if a run of this cell successfully worked.\n",
    "print(\"-----\\n-----\\n> The installation of more packages has successfully ran!\")"
   ]
  },
  {
   "cell_type": "code",
   "execution_count": 14,
   "id": "4f065698-316d-4c0d-919b-41a77158101b",
   "metadata": {},
   "outputs": [
    {
     "name": "stdout",
     "output_type": "stream",
     "text": [
      "-----\n",
      "-----\n",
      "> The loading of the deepfake detection model has successfully ran!\n"
     ]
    }
   ],
   "source": [
    "# The pickle file for the saved deepfake detection model gets reloaded by the library Joblib.\n",
    "model_cnn_loaded = joblib.load(\"14.02.2025__Deepfake-Detection-Model__[i].pkl\",mmap_mode=None)\n",
    "\n",
    "# A print statement is used in order to confirm if a run of this cell successfully worked.\n",
    "print(\"-----\\n-----\\n> The loading of the deepfake detection model has successfully ran!\")\n",
    "\n",
    "#model_cnn_loaded = joblib.load(\"14.02.2025__Deepfake-Detection-Model.pkl\",mmap_mode=None)"
   ]
  },
  {
   "cell_type": "code",
   "execution_count": 15,
   "id": "fcd73542-2ef6-40b9-8b31-d00620056b5c",
   "metadata": {},
   "outputs": [
    {
     "name": "stdout",
     "output_type": "stream",
     "text": [
      "-----\n",
      "-----\n",
      "> The creation of a diagram for the deepfake detection model has successfully ran!\n"
     ]
    }
   ],
   "source": [
    "# Two tensorflow functions are imported - they can convert and save this notebook model as a dot format (compatible with the packages making a diagram).\n",
    "from tensorflow.keras.utils import plot_model, model_to_dot\n",
    "\n",
    "# This function creates a diagram representing the structure of the deepfake detection model, and saves said diagram into a png image file.\n",
    "plot_model(model_cnn_loaded,to_file=\"14.02.2025__Deepfake-Detection-Model-CNN__Architecture__[i].png\",show_shapes=True,show_layer_names=True)\n",
    "\n",
    "# A print statement is used in order to confirm if a run of this cell successfully worked.\n",
    "print(\"-----\\n-----\\n> The creation of a diagram for the deepfake detection model has successfully ran!\")\n",
    "\n",
    "#plot_model(model_cnn_loaded,to_file=\"14.02.2025__Deepfake-Detection-Model-CNN__Architecture.png\",show_shapes=True,show_layer_names=True)"
   ]
  }
 ],
 "metadata": {
  "kernelspec": {
   "display_name": "Python [conda env:base] *",
   "language": "python",
   "name": "conda-base-py"
  },
  "language_info": {
   "codemirror_mode": {
    "name": "ipython",
    "version": 3
   },
   "file_extension": ".py",
   "mimetype": "text/x-python",
   "name": "python",
   "nbconvert_exporter": "python",
   "pygments_lexer": "ipython3",
   "version": "3.12.7"
  }
 },
 "nbformat": 4,
 "nbformat_minor": 5
}
